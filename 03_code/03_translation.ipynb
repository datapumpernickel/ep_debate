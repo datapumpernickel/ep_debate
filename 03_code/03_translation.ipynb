{
 "cells": [
  {
   "cell_type": "code",
   "execution_count": 1,
   "metadata": {},
   "outputs": [
    {
     "data": {
      "text/html": [
       "<div>\n",
       "<style scoped>\n",
       "    .dataframe tbody tr th:only-of-type {\n",
       "        vertical-align: middle;\n",
       "    }\n",
       "\n",
       "    .dataframe tbody tr th {\n",
       "        vertical-align: top;\n",
       "    }\n",
       "\n",
       "    .dataframe thead th {\n",
       "        text-align: right;\n",
       "    }\n",
       "</style>\n",
       "<table border=\"1\" class=\"dataframe\">\n",
       "  <thead>\n",
       "    <tr style=\"text-align: right;\">\n",
       "      <th></th>\n",
       "      <th>index</th>\n",
       "      <th>text_id</th>\n",
       "      <th>session_id</th>\n",
       "      <th>id_speaker</th>\n",
       "      <th>Sentence_id</th>\n",
       "      <th>sentence</th>\n",
       "      <th>language</th>\n",
       "    </tr>\n",
       "  </thead>\n",
       "  <tbody>\n",
       "    <tr>\n",
       "      <th>0</th>\n",
       "      <td>41077</td>\n",
       "      <td>3589</td>\n",
       "      <td>178</td>\n",
       "      <td>1</td>\n",
       "      <td>1</td>\n",
       "      <td>\\n</td>\n",
       "      <td>cat_Latn</td>\n",
       "    </tr>\n",
       "    <tr>\n",
       "      <th>1</th>\n",
       "      <td>41078</td>\n",
       "      <td>3589</td>\n",
       "      <td>178</td>\n",
       "      <td>1</td>\n",
       "      <td>2</td>\n",
       "      <td>On Amendment No 90</td>\n",
       "      <td>cat_Latn</td>\n",
       "    </tr>\n",
       "    <tr>\n",
       "      <th>3</th>\n",
       "      <td>56730</td>\n",
       "      <td>4813</td>\n",
       "      <td>247</td>\n",
       "      <td>1</td>\n",
       "      <td>2</td>\n",
       "      <td>On Amendment No 40</td>\n",
       "      <td>fra_Latn</td>\n",
       "    </tr>\n",
       "    <tr>\n",
       "      <th>4</th>\n",
       "      <td>58146</td>\n",
       "      <td>4815</td>\n",
       "      <td>255</td>\n",
       "      <td>1</td>\n",
       "      <td>1</td>\n",
       "      <td>IN THE CHAIR: MRS HOFF</td>\n",
       "      <td>yue_Hant</td>\n",
       "    </tr>\n",
       "    <tr>\n",
       "      <th>6</th>\n",
       "      <td>168495</td>\n",
       "      <td>13617</td>\n",
       "      <td>762</td>\n",
       "      <td>1</td>\n",
       "      <td>2</td>\n",
       "      <td>(Parliament adopted the legislative resolution...</td>\n",
       "      <td>kor_Hang</td>\n",
       "    </tr>\n",
       "    <tr>\n",
       "      <th>...</th>\n",
       "      <td>...</td>\n",
       "      <td>...</td>\n",
       "      <td>...</td>\n",
       "      <td>...</td>\n",
       "      <td>...</td>\n",
       "      <td>...</td>\n",
       "      <td>...</td>\n",
       "    </tr>\n",
       "    <tr>\n",
       "      <th>393919</th>\n",
       "      <td>2073658</td>\n",
       "      <td>179799</td>\n",
       "      <td>14163</td>\n",
       "      <td>1</td>\n",
       "      <td>2</td>\n",
       "      <td>Und da darf ich vielleicht auch erläutern:</td>\n",
       "      <td>deu_Latn</td>\n",
       "    </tr>\n",
       "    <tr>\n",
       "      <th>393920</th>\n",
       "      <td>2073659</td>\n",
       "      <td>179799</td>\n",
       "      <td>14163</td>\n",
       "      <td>1</td>\n",
       "      <td>3</td>\n",
       "      <td>Die Stimmerklärungen ganz am Schluss werden in...</td>\n",
       "      <td>deu_Latn</td>\n",
       "    </tr>\n",
       "    <tr>\n",
       "      <th>393921</th>\n",
       "      <td>2073660</td>\n",
       "      <td>179799</td>\n",
       "      <td>14163</td>\n",
       "      <td>1</td>\n",
       "      <td>4</td>\n",
       "      <td>Und da wir zehn bis 15 Stimmerklärungen haben ...</td>\n",
       "      <td>deu_Latn</td>\n",
       "    </tr>\n",
       "    <tr>\n",
       "      <th>393922</th>\n",
       "      <td>2073661</td>\n",
       "      <td>179799</td>\n",
       "      <td>14163</td>\n",
       "      <td>1</td>\n",
       "      <td>5</td>\n",
       "      <td>Das ist aber auch kein Skandal, sondern alles ...</td>\n",
       "      <td>deu_Latn</td>\n",
       "    </tr>\n",
       "    <tr>\n",
       "      <th>393925</th>\n",
       "      <td>2073664</td>\n",
       "      <td>179801</td>\n",
       "      <td>14165</td>\n",
       "      <td>1</td>\n",
       "      <td>1</td>\n",
       "      <td>Die nächste Tagung findet vom 8. bis zum 9. No...</td>\n",
       "      <td>deu_Latn</td>\n",
       "    </tr>\n",
       "  </tbody>\n",
       "</table>\n",
       "<p>359905 rows × 7 columns</p>\n",
       "</div>"
      ],
      "text/plain": [
       "          index  text_id  session_id  id_speaker  Sentence_id  \\\n",
       "0         41077     3589         178           1            1   \n",
       "1         41078     3589         178           1            2   \n",
       "3         56730     4813         247           1            2   \n",
       "4         58146     4815         255           1            1   \n",
       "6        168495    13617         762           1            2   \n",
       "...         ...      ...         ...         ...          ...   \n",
       "393919  2073658   179799       14163           1            2   \n",
       "393920  2073659   179799       14163           1            3   \n",
       "393921  2073660   179799       14163           1            4   \n",
       "393922  2073661   179799       14163           1            5   \n",
       "393925  2073664   179801       14165           1            1   \n",
       "\n",
       "                                                 sentence  language  \n",
       "0                                                      \\n  cat_Latn  \n",
       "1                                      On Amendment No 90  cat_Latn  \n",
       "3                                      On Amendment No 40  fra_Latn  \n",
       "4                                  IN THE CHAIR: MRS HOFF  yue_Hant  \n",
       "6       (Parliament adopted the legislative resolution...  kor_Hang  \n",
       "...                                                   ...       ...  \n",
       "393919         Und da darf ich vielleicht auch erläutern:  deu_Latn  \n",
       "393920  Die Stimmerklärungen ganz am Schluss werden in...  deu_Latn  \n",
       "393921  Und da wir zehn bis 15 Stimmerklärungen haben ...  deu_Latn  \n",
       "393922  Das ist aber auch kein Skandal, sondern alles ...  deu_Latn  \n",
       "393925  Die nächste Tagung findet vom 8. bis zum 9. No...  deu_Latn  \n",
       "\n",
       "[359905 rows x 7 columns]"
      ]
     },
     "execution_count": 1,
     "metadata": {},
     "output_type": "execute_result"
    }
   ],
   "source": [
    "# -*- coding: utf-8 -*-\n",
    "\"\"\"translate_ep_speeches.ipynb\n",
    "\n",
    "Automatically generated by Colaboratory.\n",
    "\n",
    "Original file is located at\n",
    "    https://colab.research.google.com/drive/1_IH0JaUFfoec2PQqA12_J1x9P58YXWF3\n",
    "\"\"\"\n",
    "\n",
    "#!pip install -U pip transformers\n",
    "#!pip install sentencepiece\n",
    "\n",
    "\n",
    "import pandas as pd\n",
    "\n",
    "full_text = pd.read_csv(\"../04_clean_data/language_detection.csv\")\n",
    "data = pd.read_csv(\"../04_clean_data/missing_speeches_parlee_sents.csv\")\n",
    "\n",
    "\n",
    "data.dropna(subset=['sentence'], inplace=True)\n",
    "data.reset_index(inplace = True)\n",
    "\n",
    "filtered_data = pd.merge(data, full_text, on='text_id', how='left')\n",
    "\n",
    "filtered_data = filtered_data[filtered_data['language'] != 'eng_Latn']\n",
    "\n",
    "# Keep only specific columns\n",
    "filtered_data = filtered_data[['text_id', 'session_id', 'id_speaker', 'Sentence_id', 'sentence','language']]\n",
    "\n",
    "filtered_data.reset_index(inplace = True)\n",
    "filtered_data.drop_duplicates(subset='sentence', inplace = True)\n",
    "filtered_data"
   ]
  },
  {
   "cell_type": "code",
   "execution_count": 2,
   "metadata": {},
   "outputs": [],
   "source": [
    "filtered_data['language'].unique()\n",
    "\n",
    "import torch\n",
    "device = torch.device(\"cuda\" if torch.cuda.is_available() else \"cpu\")\n",
    "device\n",
    "checkpoint = 'facebook/nllb-200-distilled-600M'\n",
    "from transformers import AutoTokenizer, AutoModelForSeq2SeqLM\n",
    "\n",
    "model = AutoModelForSeq2SeqLM.from_pretrained(checkpoint).to(device)\n",
    "tokenizer = AutoTokenizer.from_pretrained(checkpoint)"
   ]
  },
  {
   "cell_type": "code",
   "execution_count": 3,
   "metadata": {},
   "outputs": [
    {
     "name": "stderr",
     "output_type": "stream",
     "text": [
      "2023-11-09 10:10:13,807\tINFO worker.py:1642 -- Started a local Ray instance.\n",
      "Translating by Language:   0%|          | 0/37 [00:00<?, ?it/s]"
     ]
    },
    {
     "name": "stdout",
     "output_type": "stream",
     "text": [
      "cat_Latn\n"
     ]
    },
    {
     "name": "stderr",
     "output_type": "stream",
     "text": [
      "Translating by Language:   3%|▎         | 1/37 [00:16<10:00, 16.69s/it]"
     ]
    },
    {
     "name": "stdout",
     "output_type": "stream",
     "text": [
      "fra_Latn\n"
     ]
    },
    {
     "name": "stderr",
     "output_type": "stream",
     "text": [
      "Translating by Language:   5%|▌         | 2/37 [04:33<1:32:07, 157.93s/it]"
     ]
    },
    {
     "name": "stdout",
     "output_type": "stream",
     "text": [
      "yue_Hant\n"
     ]
    },
    {
     "name": "stderr",
     "output_type": "stream",
     "text": [
      "Translating by Language:   8%|▊         | 3/37 [04:49<52:40, 92.94s/it]   "
     ]
    },
    {
     "name": "stdout",
     "output_type": "stream",
     "text": [
      "kor_Hang\n"
     ]
    },
    {
     "name": "stderr",
     "output_type": "stream",
     "text": [
      "Translating by Language:  11%|█         | 4/37 [05:04<34:22, 62.51s/it]"
     ]
    },
    {
     "name": "stdout",
     "output_type": "stream",
     "text": [
      "glg_Latn\n"
     ]
    },
    {
     "name": "stderr",
     "output_type": "stream",
     "text": [
      "Translating by Language:  14%|█▎        | 5/37 [05:20<24:13, 45.43s/it]"
     ]
    },
    {
     "name": "stdout",
     "output_type": "stream",
     "text": [
      "spa_Latn\n"
     ]
    },
    {
     "name": "stderr",
     "output_type": "stream",
     "text": [
      "Translating by Language:  16%|█▌        | 6/37 [09:23<58:15, 112.77s/it]"
     ]
    },
    {
     "name": "stdout",
     "output_type": "stream",
     "text": [
      "deu_Latn\n"
     ]
    },
    {
     "name": "stderr",
     "output_type": "stream",
     "text": [
      "Translating by Language:  19%|█▉        | 7/37 [18:42<2:09:14, 258.47s/it]"
     ]
    },
    {
     "name": "stdout",
     "output_type": "stream",
     "text": [
      "arb_Arab\n"
     ]
    },
    {
     "name": "stderr",
     "output_type": "stream",
     "text": [
      "Translating by Language:  22%|██▏       | 8/37 [18:58<1:27:42, 181.48s/it]"
     ]
    },
    {
     "name": "stdout",
     "output_type": "stream",
     "text": [
      "bod_Tibt\n"
     ]
    },
    {
     "name": "stderr",
     "output_type": "stream",
     "text": [
      "Translating by Language:  24%|██▍       | 9/37 [19:15<1:00:41, 130.06s/it]"
     ]
    },
    {
     "name": "stdout",
     "output_type": "stream",
     "text": [
      "krc_Cyrl\n"
     ]
    },
    {
     "name": "stderr",
     "output_type": "stream",
     "text": [
      "Translating by Language:  27%|██▋       | 10/37 [19:33<42:54, 95.37s/it]  "
     ]
    },
    {
     "name": "stdout",
     "output_type": "stream",
     "text": [
      "zho_Hans\n"
     ]
    },
    {
     "name": "stderr",
     "output_type": "stream",
     "text": [
      "Translating by Language:  30%|██▉       | 11/37 [19:49<30:51, 71.23s/it]"
     ]
    },
    {
     "name": "stdout",
     "output_type": "stream",
     "text": [
      "ita_Latn\n"
     ]
    },
    {
     "name": "stderr",
     "output_type": "stream",
     "text": [
      "Translating by Language:  32%|███▏      | 12/37 [24:25<55:35, 133.43s/it]"
     ]
    },
    {
     "name": "stdout",
     "output_type": "stream",
     "text": [
      "lit_Latn\n"
     ]
    },
    {
     "name": "stderr",
     "output_type": "stream",
     "text": [
      "Translating by Language:  35%|███▌      | 13/37 [25:12<42:55, 107.30s/it]"
     ]
    },
    {
     "name": "stdout",
     "output_type": "stream",
     "text": [
      "por_Latn\n"
     ]
    },
    {
     "name": "stderr",
     "output_type": "stream",
     "text": [
      "Translating by Language:  38%|███▊      | 14/37 [28:23<50:48, 132.53s/it]"
     ]
    },
    {
     "name": "stdout",
     "output_type": "stream",
     "text": [
      "swe_Latn\n"
     ]
    },
    {
     "name": "stderr",
     "output_type": "stream",
     "text": [
      "Translating by Language:  41%|████      | 15/37 [30:42<49:20, 134.55s/it]"
     ]
    },
    {
     "name": "stdout",
     "output_type": "stream",
     "text": [
      "pol_Latn\n"
     ]
    },
    {
     "name": "stderr",
     "output_type": "stream",
     "text": [
      "Translating by Language:  43%|████▎     | 16/37 [37:10<1:13:44, 210.68s/it]"
     ]
    },
    {
     "name": "stdout",
     "output_type": "stream",
     "text": [
      "ell_Grek\n"
     ]
    },
    {
     "name": "stderr",
     "output_type": "stream",
     "text": [
      "Translating by Language:  46%|████▌     | 17/37 [39:38<1:03:58, 191.91s/it]"
     ]
    },
    {
     "name": "stdout",
     "output_type": "stream",
     "text": [
      "slk_Latn\n"
     ]
    },
    {
     "name": "stderr",
     "output_type": "stream",
     "text": [
      "Translating by Language:  49%|████▊     | 18/37 [41:20<52:12, 164.84s/it]  "
     ]
    },
    {
     "name": "stdout",
     "output_type": "stream",
     "text": [
      "hun_Latn\n"
     ]
    },
    {
     "name": "stderr",
     "output_type": "stream",
     "text": [
      "Translating by Language:  51%|█████▏    | 19/37 [43:41<47:17, 157.63s/it]"
     ]
    },
    {
     "name": "stdout",
     "output_type": "stream",
     "text": [
      "ces_Latn\n"
     ]
    },
    {
     "name": "stderr",
     "output_type": "stream",
     "text": [
      "Translating by Language:  54%|█████▍    | 20/37 [46:07<43:44, 154.36s/it]"
     ]
    },
    {
     "name": "stdout",
     "output_type": "stream",
     "text": [
      "dan_Latn\n"
     ]
    },
    {
     "name": "stderr",
     "output_type": "stream",
     "text": [
      "Translating by Language:  57%|█████▋    | 21/37 [47:55<37:23, 140.25s/it]"
     ]
    },
    {
     "name": "stdout",
     "output_type": "stream",
     "text": [
      "mlt_Latn\n"
     ]
    },
    {
     "name": "stderr",
     "output_type": "stream",
     "text": [
      "Translating by Language:  59%|█████▉    | 22/37 [48:36<27:37, 110.51s/it]"
     ]
    },
    {
     "name": "stdout",
     "output_type": "stream",
     "text": [
      "nld_Latn\n"
     ]
    },
    {
     "name": "stderr",
     "output_type": "stream",
     "text": [
      "Translating by Language:  62%|██████▏   | 23/37 [53:38<39:11, 167.98s/it]"
     ]
    },
    {
     "name": "stdout",
     "output_type": "stream",
     "text": [
      "lvs_Latn\n"
     ]
    },
    {
     "name": "stderr",
     "output_type": "stream",
     "text": [
      "Translating by Language:  65%|██████▍   | 24/37 [54:13<27:46, 128.19s/it]"
     ]
    },
    {
     "name": "stdout",
     "output_type": "stream",
     "text": [
      "fin_Latn\n"
     ]
    },
    {
     "name": "stderr",
     "output_type": "stream",
     "text": [
      "Translating by Language:  68%|██████▊   | 25/37 [55:55<24:03, 120.27s/it]"
     ]
    },
    {
     "name": "stdout",
     "output_type": "stream",
     "text": [
      "est_Latn\n"
     ]
    },
    {
     "name": "stderr",
     "output_type": "stream",
     "text": [
      "Translating by Language:  70%|███████   | 26/37 [56:34<17:35, 95.95s/it] "
     ]
    },
    {
     "name": "stdout",
     "output_type": "stream",
     "text": [
      "slv_Latn\n"
     ]
    },
    {
     "name": "stderr",
     "output_type": "stream",
     "text": [
      "Translating by Language:  73%|███████▎  | 27/37 [58:02<15:34, 93.42s/it]"
     ]
    },
    {
     "name": "stdout",
     "output_type": "stream",
     "text": [
      "gle_Latn\n"
     ]
    },
    {
     "name": "stderr",
     "output_type": "stream",
     "text": [
      "Translating by Language:  76%|███████▌  | 28/37 [58:27<10:56, 72.96s/it]"
     ]
    },
    {
     "name": "stdout",
     "output_type": "stream",
     "text": [
      "ron_Latn\n"
     ]
    },
    {
     "name": "stderr",
     "output_type": "stream",
     "text": [
      "Translating by Language:  78%|███████▊  | 29/37 [1:02:02<15:25, 115.64s/it]"
     ]
    },
    {
     "name": "stdout",
     "output_type": "stream",
     "text": [
      "bul_Cyrl\n"
     ]
    },
    {
     "name": "stderr",
     "output_type": "stream",
     "text": [
      "Translating by Language:  81%|████████  | 30/37 [1:04:18<14:11, 121.59s/it]"
     ]
    },
    {
     "name": "stdout",
     "output_type": "stream",
     "text": [
      "oci_Latn\n"
     ]
    },
    {
     "name": "stderr",
     "output_type": "stream",
     "text": [
      "Translating by Language:  84%|████████▍ | 31/37 [1:04:33<08:58, 89.80s/it] "
     ]
    },
    {
     "name": "stdout",
     "output_type": "stream",
     "text": [
      "ind_Latn\n"
     ]
    },
    {
     "name": "stderr",
     "output_type": "stream",
     "text": [
      "Translating by Language:  86%|████████▋ | 32/37 [1:04:49<05:37, 67.52s/it]"
     ]
    },
    {
     "name": "stdout",
     "output_type": "stream",
     "text": [
      "ast_Latn\n"
     ]
    },
    {
     "name": "stderr",
     "output_type": "stream",
     "text": [
      "Translating by Language:  89%|████████▉ | 33/37 [1:05:04<03:27, 51.90s/it]"
     ]
    },
    {
     "name": "stdout",
     "output_type": "stream",
     "text": [
      "vie_Latn\n"
     ]
    },
    {
     "name": "stderr",
     "output_type": "stream",
     "text": [
      "Translating by Language:  92%|█████████▏| 34/37 [1:05:20<02:02, 40.94s/it]"
     ]
    },
    {
     "name": "stdout",
     "output_type": "stream",
     "text": [
      "ilo_Latn\n"
     ]
    },
    {
     "name": "stderr",
     "output_type": "stream",
     "text": [
      "Translating by Language:  95%|█████████▍| 35/37 [1:05:35<01:06, 33.27s/it]"
     ]
    },
    {
     "name": "stdout",
     "output_type": "stream",
     "text": [
      "hrv_Latn\n"
     ]
    },
    {
     "name": "stderr",
     "output_type": "stream",
     "text": [
      "Translating by Language:  97%|█████████▋| 36/37 [1:08:06<01:08, 68.47s/it]"
     ]
    },
    {
     "name": "stdout",
     "output_type": "stream",
     "text": [
      "kab_Latn\n"
     ]
    },
    {
     "name": "stderr",
     "output_type": "stream",
     "text": [
      "Translating by Language: 100%|██████████| 37/37 [1:08:21<00:00, 110.85s/it]\n"
     ]
    }
   ],
   "source": [
    "from tqdm import tqdm\n",
    "import pandas as pd\n",
    "import json\n",
    "import time\n",
    "from datetime import timedelta\n",
    "import ray\n",
    "from transformers import pipeline\n",
    "from datetime import datetime\n",
    "\n",
    "# Initialize Ray cluster once, outside of loops\n",
    "## this takes about 80-100 GB of RAM so be careful when initializing on a \"normal\" workstation or laptop\n",
    "ray.init(num_cpus=20, ignore_reinit_error=True)\n",
    "\n",
    "# @ray.remote decorator enables to use this \n",
    "# function in distributed setting\n",
    "@ray.remote\n",
    "def predict(pipeline, text_data):\n",
    "    return pipeline(text_data)\n",
    "\n",
    "# Open the JSONL file to store the translations\n",
    "with open('translated_sentences.jsonl', 'a+') as f:\n",
    "    unique_languages = filtered_data['language'].unique()\n",
    "    for current_language in tqdm(unique_languages, desc=\"Translating by Language\"):\n",
    "        print(current_language)\n",
    "        # Filter the DataFrame to only include rows with the current language\n",
    "        language_specific_data = filtered_data[filtered_data['language'] == current_language]\n",
    "\n",
    "        # Initialize the translation pipeline once per language\n",
    "        translation_pipeline = pipeline('translation',\n",
    "                                        model=model,\n",
    "                                        tokenizer=tokenizer,\n",
    "                                        src_lang=current_language,\n",
    "                                        tgt_lang='eng_Latn',\n",
    "                                        max_length=500)\n",
    "        pipe_id = ray.put(translation_pipeline)\n",
    "\n",
    "        batch_size = 1000\n",
    "        # Process sentences in batches\n",
    "        for i in tqdm(range(0, len(language_specific_data), batch_size), desc=f\"Translating Sentences in {current_language}\", leave=False):\n",
    "\n",
    "            batch_data = language_specific_data.iloc[i:i+batch_size]\n",
    "            batch_sentences = batch_data['sentence'].tolist()\n",
    "\n",
    "            # Check existing IDs and filter new batch data\n",
    "            f.seek(0)\n",
    "            existing_ids = [(json.loads(line).get('text_id'), json.loads(line).get('Sentence_id')) for line in f]\n",
    "            new_batch_data = [(row['text_id'], row['Sentence_id'], row['sentence']) for index, row in batch_data.iterrows() if (row['text_id'], row['Sentence_id']) not in existing_ids]\n",
    "            \n",
    "            if not new_batch_data:\n",
    "                continue\n",
    "            start_time = datetime.now()  # Start time of the batch\n",
    "            print(f\"Batch starting at index {i}, Start time: {start_time}\")\n",
    "            new_batch_text_ids, new_batch_sentence_ids, new_batch_sentences = map(list, zip(*new_batch_data))\n",
    "            \n",
    "            # Schedule multiple Ray tasks for translation\n",
    "            future_results = [predict.remote(pipe_id, sentence) for sentence in new_batch_sentences]\n",
    "            translation_output = ray.get(future_results)\n",
    "            \n",
    "            translated_texts = [out[0][\"translation_text\"] for out in translation_output]\n",
    "            \n",
    "            # Write to JSONL\n",
    "            for text_id, sentence_id, translated_text in zip(new_batch_text_ids, new_batch_sentence_ids, translated_texts):\n",
    "                json.dump({\"text_id\": text_id, \"Sentence_id\": sentence_id, \"translated_sentence\": translated_text}, f)\n",
    "                f.write('\\n')\n",
    "            end_time = datetime.now()  # End time of the batch\n",
    "            duration = end_time - start_time  # Duration of the batch\n",
    "            \n",
    "            print(f\"Batch ending at index {i + batch_size}, End time: {end_time}, Duration: {duration}, part of: {current_language}\")\n",
    "\n",
    "# Shutdown Ray cluster after all tasks\n",
    "ray.shutdown()\n"
   ]
  },
  {
   "cell_type": "code",
   "execution_count": 4,
   "metadata": {},
   "outputs": [],
   "source": [
    "ray.shutdown()"
   ]
  },
  {
   "cell_type": "code",
   "execution_count": null,
   "metadata": {},
   "outputs": [],
   "source": []
  }
 ],
 "metadata": {
  "kernelspec": {
   "display_name": "spacy",
   "language": "python",
   "name": "python3"
  },
  "language_info": {
   "codemirror_mode": {
    "name": "ipython",
    "version": 3
   },
   "file_extension": ".py",
   "mimetype": "text/x-python",
   "name": "python",
   "nbconvert_exporter": "python",
   "pygments_lexer": "ipython3",
   "version": "3.11.6"
  },
  "orig_nbformat": 4
 },
 "nbformat": 4,
 "nbformat_minor": 2
}
