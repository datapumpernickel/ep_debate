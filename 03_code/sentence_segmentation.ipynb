{
 "cells": [
  {
   "cell_type": "code",
   "execution_count": null,
   "metadata": {},
   "outputs": [],
   "source": [
    "import spacy\n",
    "import pandas as pd\n",
    "import xx_sent_ud_sm\n",
    "\n",
    "nlp = spacy.load(\"xx_sent_ud_sm\")\n",
    "nlp = xx_sent_ud_sm.load()\n"
   ]
  },
  {
   "cell_type": "code",
   "execution_count": null,
   "metadata": {},
   "outputs": [],
   "source": [
    "data = pd.read_csv(\"../04_clean_data/missing_speeches_parlee.csv\")\n",
    "\n",
    "# Step 1: Clean the DataFrame\n",
    "data['text'] = data['text'].astype(str)\n",
    "\n",
    "# Step 2: Feed the DataFrame to spaCy pipeline\n",
    "docs = list(nlp.pipe(data.text, n_process=4))"
   ]
  },
  {
   "cell_type": "code",
   "execution_count": null,
   "metadata": {},
   "outputs": [],
   "source": [
    "# Step 3: Create a new DataFrame with sentences\n",
    "sentences = []\n",
    "doc_ids = []\n",
    "sentence_ids = []\n",
    "\n",
    "for doc_id, doc in zip(data.text_id, docs):\n",
    "    sent_id = 1\n",
    "    for sent in doc.sents:\n",
    "        sentences.append(sent.text)\n",
    "        doc_ids.append(doc_id)\n",
    "        sentence_ids.append(sent_id)\n",
    "        sent_id += 1\n",
    "\n",
    "result_df = pd.DataFrame({\n",
    "    'text_id': doc_ids,\n",
    "    'Sentence_id': sentence_ids,\n",
    "    'sentence': sentences\n",
    "})\n",
    "\n",
    "result_df"
   ]
  },
  {
   "cell_type": "code",
   "execution_count": null,
   "metadata": {},
   "outputs": [],
   "source": [
    "result_df.head(40)"
   ]
  },
  {
   "cell_type": "code",
   "execution_count": null,
   "metadata": {},
   "outputs": [],
   "source": [
    "data[[\"text_id\",\"session_id\",\"id_speaker\"]].head(5)"
   ]
  },
  {
   "cell_type": "code",
   "execution_count": null,
   "metadata": {},
   "outputs": [],
   "source": [
    "data.drop(columns=['text'], inplace=True)"
   ]
  },
  {
   "cell_type": "code",
   "execution_count": null,
   "metadata": {},
   "outputs": [],
   "source": [
    "# Left join the 'data' DataFrame onto the 'result_df' DataFrame using the 'ID' column\n",
    "merged_df = pd.merge(data[[\"text_id\",\"session_id\",\"id_speaker\"]], result_df, left_on='text_id', right_on='text_id', how='left')"
   ]
  },
  {
   "cell_type": "code",
   "execution_count": null,
   "metadata": {},
   "outputs": [],
   "source": [
    "merged_df.to_csv(\"../04_clean_data/missing_speeches_parlee_sents.csv\")"
   ]
  }
 ],
 "metadata": {
  "kernelspec": {
   "display_name": "spacy",
   "language": "python",
   "name": "python3"
  },
  "language_info": {
   "codemirror_mode": {
    "name": "ipython",
    "version": 3
   },
   "file_extension": ".py",
   "mimetype": "text/x-python",
   "name": "python",
   "nbconvert_exporter": "python",
   "pygments_lexer": "ipython3",
   "version": "3.11.6"
  },
  "orig_nbformat": 4
 },
 "nbformat": 4,
 "nbformat_minor": 2
}
